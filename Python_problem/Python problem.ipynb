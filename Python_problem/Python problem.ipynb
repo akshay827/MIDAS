{
 "cells": [
  {
   "cell_type": "markdown",
   "metadata": {},
   "source": [
    "## Problem statement\n",
    "You have to write a python script which can fetch all the tweets(as many as allowed by Twitter\n",
    "API) done by [midas@IIITD](https://twitter.com/midasIIITD) twitter handle and dump the responses into JSONlines file.\n",
    "The other part of your script should be able to parse these JSONline files to display the\n",
    "following for every tweet in a tabular format.\n",
    "* The text of the tweet.\n",
    "* Date and time of the tweet.\n",
    "* The number of favorites/likes.\n",
    "* The number of retweets.\n",
    "* Number of Images present in Tweet. If no image returns None."
   ]
  },
  {
   "cell_type": "markdown",
   "metadata": {},
   "source": [
    "## Imports"
   ]
  },
  {
   "cell_type": "code",
   "execution_count": 8,
   "metadata": {
    "collapsed": true
   },
   "outputs": [],
   "source": [
    "import tweepy\n",
    "from tweepy import OAuthHandler\n",
    "import json"
   ]
  },
  {
   "cell_type": "markdown",
   "metadata": {},
   "source": [
    "## Authorization"
   ]
  },
  {
   "cell_type": "code",
   "execution_count": null,
   "metadata": {
    "collapsed": true
   },
   "outputs": [],
   "source": [
    "ACCESS_TOKEN = \"900020691294068737-ySM9ByUbnqBsIMMUSgyTDcDdfeujlnD\"\n",
    "ACCESS_TOKEN_SECRET = \"8okO1if7mIjG67zob9ztLMhC9g98DjzzpJXPoelGkPBhR\"\n",
    "CONSUMER_KEY = \"UeApqiXDmSKaPCnAK8pG1ibsA\" \n",
    "CONSUMER_SECRET_KEY = \"Oi5RfSANKDH9WTt2pjHUh3SfgROfeVDjnvro1alRv1VQ1r14gH\""
   ]
  },
  {
   "cell_type": "code",
   "execution_count": 7,
   "metadata": {
    "collapsed": true
   },
   "outputs": [],
   "source": [
    "auth = OAuthHandler(CONSUMER_KEY, CONSUMER_SECRET_KEY)\n",
    "auth.set_access_token(ACCESS_TOKEN, ACCESS_TOKEN_SECRET)\n",
    "api = tweepy.API(auth)"
   ]
  },
  {
   "cell_type": "markdown",
   "metadata": {},
   "source": [
    "## Fetch Tweets"
   ]
  },
  {
   "cell_type": "code",
   "execution_count": 14,
   "metadata": {
    "collapsed": true
   },
   "outputs": [],
   "source": [
    "def fetch_tweets(user_name):\n",
    "    '''\n",
    "    user_name, screen_name: Twitter handle of the user\n",
    "    tweets: List (of length 200) of tweets\n",
    "    all_tweets: List of all tweets\n",
    "    oldest: Index of oldest fetched tweet\n",
    "    '''\n",
    "    \n",
    "    all_tweets = []\n",
    "    tweets = api.user_timeline(screen_name = user_name,count=200)\n",
    "    all_tweets.extend(tweets)\n",
    "    oldest = all_tweets[-1].id - 1\n",
    "    \n",
    "    while len(tweets) > 0:\n",
    "        tweets = api.user_timeline(screen_name = user_name, count=200, max_id=oldest)\n",
    "        all_tweets.extend(tweets)\n",
    "        oldest = all_tweets[-1].id - 1\n",
    "\n",
    "    print(f\"Total number of tweets from {user_name} are {len(all_tweets)}\")\n",
    "    return all_tweets"
   ]
  },
  {
   "cell_type": "code",
   "execution_count": 17,
   "metadata": {},
   "outputs": [
    {
     "name": "stdout",
     "output_type": "stream",
     "text": [
      "Total number of tweets from midasIIITD are 293\n"
     ]
    }
   ],
   "source": [
    "tweets_by_MIDAS = fetch_tweets(\"midasIIITD\")"
   ]
  },
  {
   "cell_type": "code",
   "execution_count": 18,
   "metadata": {},
   "outputs": [
    {
     "data": {
      "text/plain": [
       "Status(_api=<tweepy.api.API object at 0x000001E428105320>, _json={'created_at': 'Sun Mar 17 14:22:04 +0000 2019', 'id': 1107285980082569218, 'id_str': '1107285980082569218', 'text': 'Congratulations @midasIIITD team, Rohan, Pradyumn, Ramit, @debanjanbhucs, @MADAIguy and @RatnRajiv for getting thei… https://t.co/jDCOIOsl1M', 'truncated': True, 'entities': {'hashtags': [], 'symbols': [], 'user_mentions': [{'screen_name': 'midasIIITD', 'name': 'MIDAS IIITD', 'id': 1021355762575073281, 'id_str': '1021355762575073281', 'indices': [16, 27]}, {'screen_name': 'debanjanbhucs', 'name': 'Debanjan Mahata', 'id': 73426884, 'id_str': '73426884', 'indices': [58, 72]}, {'screen_name': 'MADAIguy', 'name': 'PUNEET MATHUR', 'id': 100533373, 'id_str': '100533373', 'indices': [74, 83]}, {'screen_name': 'RatnRajiv', 'name': 'Rajiv Ratn', 'id': 932847441316999169, 'id_str': '932847441316999169', 'indices': [88, 98]}], 'urls': [{'url': 'https://t.co/jDCOIOsl1M', 'expanded_url': 'https://twitter.com/i/web/status/1107285980082569218', 'display_url': 'twitter.com/i/web/status/1…', 'indices': [117, 140]}]}, 'source': '<a href=\"http://twitter.com\" rel=\"nofollow\">Twitter Web Client</a>', 'in_reply_to_status_id': None, 'in_reply_to_status_id_str': None, 'in_reply_to_user_id': None, 'in_reply_to_user_id_str': None, 'in_reply_to_screen_name': None, 'user': {'id': 1021355762575073281, 'id_str': '1021355762575073281', 'name': 'MIDAS IIITD', 'screen_name': 'midasIIITD', 'location': 'New Delhi, India', 'description': 'MIDAS is a group of researchers at IIIT-Delhi who study, analyze, and build different multimedia systems for society leveraging multimodal information.', 'url': 'https://t.co/Uwg7oSM6mE', 'entities': {'url': {'urls': [{'url': 'https://t.co/Uwg7oSM6mE', 'expanded_url': 'http://midas.iiitd.edu.in/', 'display_url': 'midas.iiitd.edu.in', 'indices': [0, 23]}]}, 'description': {'urls': []}}, 'protected': False, 'followers_count': 162, 'friends_count': 38, 'listed_count': 0, 'created_at': 'Mon Jul 23 11:26:04 +0000 2018', 'favourites_count': 116, 'utc_offset': None, 'time_zone': None, 'geo_enabled': False, 'verified': False, 'statuses_count': 293, 'lang': 'en', 'contributors_enabled': False, 'is_translator': False, 'is_translation_enabled': False, 'profile_background_color': 'F5F8FA', 'profile_background_image_url': None, 'profile_background_image_url_https': None, 'profile_background_tile': False, 'profile_image_url': 'http://pbs.twimg.com/profile_images/1021356444921212928/WmSTJCUs_normal.jpg', 'profile_image_url_https': 'https://pbs.twimg.com/profile_images/1021356444921212928/WmSTJCUs_normal.jpg', 'profile_banner_url': 'https://pbs.twimg.com/profile_banners/1021355762575073281/1552394509', 'profile_link_color': '1DA1F2', 'profile_sidebar_border_color': 'C0DEED', 'profile_sidebar_fill_color': 'DDEEF6', 'profile_text_color': '333333', 'profile_use_background_image': True, 'has_extended_profile': False, 'default_profile': True, 'default_profile_image': False, 'following': True, 'follow_request_sent': False, 'notifications': True, 'translator_type': 'none'}, 'geo': None, 'coordinates': None, 'place': None, 'contributors': None, 'is_quote_status': False, 'retweet_count': 1, 'favorite_count': 1, 'favorited': False, 'retweeted': False, 'lang': 'en'}, created_at=datetime.datetime(2019, 3, 17, 14, 22, 4), id=1107285980082569218, id_str='1107285980082569218', text='Congratulations @midasIIITD team, Rohan, Pradyumn, Ramit, @debanjanbhucs, @MADAIguy and @RatnRajiv for getting thei… https://t.co/jDCOIOsl1M', truncated=True, entities={'hashtags': [], 'symbols': [], 'user_mentions': [{'screen_name': 'midasIIITD', 'name': 'MIDAS IIITD', 'id': 1021355762575073281, 'id_str': '1021355762575073281', 'indices': [16, 27]}, {'screen_name': 'debanjanbhucs', 'name': 'Debanjan Mahata', 'id': 73426884, 'id_str': '73426884', 'indices': [58, 72]}, {'screen_name': 'MADAIguy', 'name': 'PUNEET MATHUR', 'id': 100533373, 'id_str': '100533373', 'indices': [74, 83]}, {'screen_name': 'RatnRajiv', 'name': 'Rajiv Ratn', 'id': 932847441316999169, 'id_str': '932847441316999169', 'indices': [88, 98]}], 'urls': [{'url': 'https://t.co/jDCOIOsl1M', 'expanded_url': 'https://twitter.com/i/web/status/1107285980082569218', 'display_url': 'twitter.com/i/web/status/1…', 'indices': [117, 140]}]}, source='Twitter Web Client', source_url='http://twitter.com', in_reply_to_status_id=None, in_reply_to_status_id_str=None, in_reply_to_user_id=None, in_reply_to_user_id_str=None, in_reply_to_screen_name=None, author=User(_api=<tweepy.api.API object at 0x000001E428105320>, _json={'id': 1021355762575073281, 'id_str': '1021355762575073281', 'name': 'MIDAS IIITD', 'screen_name': 'midasIIITD', 'location': 'New Delhi, India', 'description': 'MIDAS is a group of researchers at IIIT-Delhi who study, analyze, and build different multimedia systems for society leveraging multimodal information.', 'url': 'https://t.co/Uwg7oSM6mE', 'entities': {'url': {'urls': [{'url': 'https://t.co/Uwg7oSM6mE', 'expanded_url': 'http://midas.iiitd.edu.in/', 'display_url': 'midas.iiitd.edu.in', 'indices': [0, 23]}]}, 'description': {'urls': []}}, 'protected': False, 'followers_count': 162, 'friends_count': 38, 'listed_count': 0, 'created_at': 'Mon Jul 23 11:26:04 +0000 2018', 'favourites_count': 116, 'utc_offset': None, 'time_zone': None, 'geo_enabled': False, 'verified': False, 'statuses_count': 293, 'lang': 'en', 'contributors_enabled': False, 'is_translator': False, 'is_translation_enabled': False, 'profile_background_color': 'F5F8FA', 'profile_background_image_url': None, 'profile_background_image_url_https': None, 'profile_background_tile': False, 'profile_image_url': 'http://pbs.twimg.com/profile_images/1021356444921212928/WmSTJCUs_normal.jpg', 'profile_image_url_https': 'https://pbs.twimg.com/profile_images/1021356444921212928/WmSTJCUs_normal.jpg', 'profile_banner_url': 'https://pbs.twimg.com/profile_banners/1021355762575073281/1552394509', 'profile_link_color': '1DA1F2', 'profile_sidebar_border_color': 'C0DEED', 'profile_sidebar_fill_color': 'DDEEF6', 'profile_text_color': '333333', 'profile_use_background_image': True, 'has_extended_profile': False, 'default_profile': True, 'default_profile_image': False, 'following': True, 'follow_request_sent': False, 'notifications': True, 'translator_type': 'none'}, id=1021355762575073281, id_str='1021355762575073281', name='MIDAS IIITD', screen_name='midasIIITD', location='New Delhi, India', description='MIDAS is a group of researchers at IIIT-Delhi who study, analyze, and build different multimedia systems for society leveraging multimodal information.', url='https://t.co/Uwg7oSM6mE', entities={'url': {'urls': [{'url': 'https://t.co/Uwg7oSM6mE', 'expanded_url': 'http://midas.iiitd.edu.in/', 'display_url': 'midas.iiitd.edu.in', 'indices': [0, 23]}]}, 'description': {'urls': []}}, protected=False, followers_count=162, friends_count=38, listed_count=0, created_at=datetime.datetime(2018, 7, 23, 11, 26, 4), favourites_count=116, utc_offset=None, time_zone=None, geo_enabled=False, verified=False, statuses_count=293, lang='en', contributors_enabled=False, is_translator=False, is_translation_enabled=False, profile_background_color='F5F8FA', profile_background_image_url=None, profile_background_image_url_https=None, profile_background_tile=False, profile_image_url='http://pbs.twimg.com/profile_images/1021356444921212928/WmSTJCUs_normal.jpg', profile_image_url_https='https://pbs.twimg.com/profile_images/1021356444921212928/WmSTJCUs_normal.jpg', profile_banner_url='https://pbs.twimg.com/profile_banners/1021355762575073281/1552394509', profile_link_color='1DA1F2', profile_sidebar_border_color='C0DEED', profile_sidebar_fill_color='DDEEF6', profile_text_color='333333', profile_use_background_image=True, has_extended_profile=False, default_profile=True, default_profile_image=False, following=True, follow_request_sent=False, notifications=True, translator_type='none'), user=User(_api=<tweepy.api.API object at 0x000001E428105320>, _json={'id': 1021355762575073281, 'id_str': '1021355762575073281', 'name': 'MIDAS IIITD', 'screen_name': 'midasIIITD', 'location': 'New Delhi, India', 'description': 'MIDAS is a group of researchers at IIIT-Delhi who study, analyze, and build different multimedia systems for society leveraging multimodal information.', 'url': 'https://t.co/Uwg7oSM6mE', 'entities': {'url': {'urls': [{'url': 'https://t.co/Uwg7oSM6mE', 'expanded_url': 'http://midas.iiitd.edu.in/', 'display_url': 'midas.iiitd.edu.in', 'indices': [0, 23]}]}, 'description': {'urls': []}}, 'protected': False, 'followers_count': 162, 'friends_count': 38, 'listed_count': 0, 'created_at': 'Mon Jul 23 11:26:04 +0000 2018', 'favourites_count': 116, 'utc_offset': None, 'time_zone': None, 'geo_enabled': False, 'verified': False, 'statuses_count': 293, 'lang': 'en', 'contributors_enabled': False, 'is_translator': False, 'is_translation_enabled': False, 'profile_background_color': 'F5F8FA', 'profile_background_image_url': None, 'profile_background_image_url_https': None, 'profile_background_tile': False, 'profile_image_url': 'http://pbs.twimg.com/profile_images/1021356444921212928/WmSTJCUs_normal.jpg', 'profile_image_url_https': 'https://pbs.twimg.com/profile_images/1021356444921212928/WmSTJCUs_normal.jpg', 'profile_banner_url': 'https://pbs.twimg.com/profile_banners/1021355762575073281/1552394509', 'profile_link_color': '1DA1F2', 'profile_sidebar_border_color': 'C0DEED', 'profile_sidebar_fill_color': 'DDEEF6', 'profile_text_color': '333333', 'profile_use_background_image': True, 'has_extended_profile': False, 'default_profile': True, 'default_profile_image': False, 'following': True, 'follow_request_sent': False, 'notifications': True, 'translator_type': 'none'}, id=1021355762575073281, id_str='1021355762575073281', name='MIDAS IIITD', screen_name='midasIIITD', location='New Delhi, India', description='MIDAS is a group of researchers at IIIT-Delhi who study, analyze, and build different multimedia systems for society leveraging multimodal information.', url='https://t.co/Uwg7oSM6mE', entities={'url': {'urls': [{'url': 'https://t.co/Uwg7oSM6mE', 'expanded_url': 'http://midas.iiitd.edu.in/', 'display_url': 'midas.iiitd.edu.in', 'indices': [0, 23]}]}, 'description': {'urls': []}}, protected=False, followers_count=162, friends_count=38, listed_count=0, created_at=datetime.datetime(2018, 7, 23, 11, 26, 4), favourites_count=116, utc_offset=None, time_zone=None, geo_enabled=False, verified=False, statuses_count=293, lang='en', contributors_enabled=False, is_translator=False, is_translation_enabled=False, profile_background_color='F5F8FA', profile_background_image_url=None, profile_background_image_url_https=None, profile_background_tile=False, profile_image_url='http://pbs.twimg.com/profile_images/1021356444921212928/WmSTJCUs_normal.jpg', profile_image_url_https='https://pbs.twimg.com/profile_images/1021356444921212928/WmSTJCUs_normal.jpg', profile_banner_url='https://pbs.twimg.com/profile_banners/1021355762575073281/1552394509', profile_link_color='1DA1F2', profile_sidebar_border_color='C0DEED', profile_sidebar_fill_color='DDEEF6', profile_text_color='333333', profile_use_background_image=True, has_extended_profile=False, default_profile=True, default_profile_image=False, following=True, follow_request_sent=False, notifications=True, translator_type='none'), geo=None, coordinates=None, place=None, contributors=None, is_quote_status=False, retweet_count=1, favorite_count=1, favorited=False, retweeted=False, lang='en')"
      ]
     },
     "execution_count": 18,
     "metadata": {},
     "output_type": "execute_result"
    }
   ],
   "source": [
    "tweets_by_MIDAS[0]"
   ]
  },
  {
   "cell_type": "code",
   "execution_count": null,
   "metadata": {
    "collapsed": true
   },
   "outputs": [],
   "source": []
  }
 ],
 "metadata": {
  "kernelspec": {
   "display_name": "Python 3",
   "language": "python",
   "name": "python3"
  },
  "language_info": {
   "codemirror_mode": {
    "name": "ipython",
    "version": 3
   },
   "file_extension": ".py",
   "mimetype": "text/x-python",
   "name": "python",
   "nbconvert_exporter": "python",
   "pygments_lexer": "ipython3",
   "version": "3.6.1"
  }
 },
 "nbformat": 4,
 "nbformat_minor": 2
}
